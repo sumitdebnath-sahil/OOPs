{
 "cells": [
  {
   "cell_type": "markdown",
   "id": "6b6053db-4c6f-4d4b-bacb-5c1aebd1bb64",
   "metadata": {},
   "source": [
    "1. What is Object-Oriented Programming (OOP)?\n",
    "Ans. Object-Oriented Programming (OOP) is a programming paradigm based on the concept of \"objects\", which can contain both data (called attributes or properties) and code (called methods or functions) that operates on the data."
   ]
  },
  {
   "cell_type": "markdown",
   "id": "4b6a65e4-81b0-4794-99be-c8e100b29e7b",
   "metadata": {},
   "source": [
    "2. What is a class in OOP?\n",
    "Ans. A class in Object-Oriented Programming (OOP) is like a blueprint or template for creating objects. It defines the attributes (data) and methods (functions/behavior) that the objects created from the class will have."
   ]
  },
  {
   "cell_type": "markdown",
   "id": "a3e09fb9-f1bb-48ae-b933-5a1cf9aefb83",
   "metadata": {},
   "source": [
    "3. What is an object in OOP?\n",
    "Ans. In Object-Oriented Programming (OOP), an object is an instance of a class. It’s a real-world entity that contains data (attributes) and can perform actions (methods) defined by its class"
   ]
  },
  {
   "cell_type": "markdown",
   "id": "a6efbe9d-0886-44ad-bbea-d91b190961e5",
   "metadata": {},
   "source": [
    "4. What is the difference between abstraction and encapsulation?\n",
    "Ans.\n",
    "Abstraction: \"What to show?\"\n",
    "Definition: Abstraction means hiding the complex implementation details and showing only the essential features of an object.It helps you focus on what an object does rather than how it does it. Achieved using abstract classes or interfaces (in languages like Java/C++) or by defining methods without worrying about their internal logic.\n",
    "\n",
    "Encapsulation: \"How to protect?\"\n",
    "Definition: Encapsulation is about bundling the data (attributes) and the methods (functions) that operate on the data into a single unit (a class) and restricting direct access to some of the object's components. It hides the internal state of the object from the outside world. Achieved using access modifiers like private, protected, and public."
   ]
  },
  {
   "cell_type": "markdown",
   "id": "f5073f98-f4f3-4ecd-a9b2-5a61926be2cc",
   "metadata": {},
   "source": [
    " 5. What are dunder methods in Python?\n",
    "Ans. In Python, dunder methods (short for \"double underscore methods\") are special methods that start and end with double underscores, like __int__, __str__, or __len__. \n",
    "They are also called: Magic methods, Special methods.\n",
    "These methods are automatically called by Python in certain situations and are used to customize the behavior of your objects."
   ]
  },
  {
   "cell_type": "markdown",
   "id": "b5b30417-b1ec-4dba-856e-e1cdf81ef456",
   "metadata": {},
   "source": [
    "6. Explain the concept of inheritance in OOP?\n",
    "Ans. Inheritance is an OOP concept where a child class (subclass) can inherit properties and methods from a parent class (superclass).\n",
    "This helps to: \n",
    "Reuse code instead of rewriting it.\n",
    "Create a hierarchical relationship between classes.\n",
    "Extend or customize the behavior of the parent class."
   ]
  },
  {
   "cell_type": "markdown",
   "id": "7418c9b1-d61d-42c4-974c-25f13a3ca808",
   "metadata": {},
   "source": [
    "7. What is polymorphism in OOP?\n",
    "Ans. Polymorphism means \"many forms\". In OOP, it allows the same interface or method name to behave differently depending on the object that is using it. It lets you write flexible and reusable code, where functions or methods can operate on objects of different types."
   ]
  },
  {
   "cell_type": "markdown",
   "id": "4531bc52-6342-4a91-a936-1621fbece4b3",
   "metadata": {},
   "source": [
    "8. How is encapsulation achieved in Python?\n",
    "Ans. Encapsulation means: Bundling data (attributes) and methods into a single unit (a class). Restricting access to some parts of an object to prevent unintended interference.\n",
    "Python uses naming conventions to control access:\n",
    "Public\t(no underscore)\tAccessible from anywhere\n",
    "Protected\t_name\tSuggests it's for internal use (not enforced)"
   ]
  },
  {
   "cell_type": "markdown",
   "id": "6b41c2ce-6aa9-492a-98b1-b00b875d2d4a",
   "metadata": {},
   "source": [
    "9. What is a constructor in Python?\n",
    "Ans. A constructor is a special method in a class that is automatically called when an object is created. It is used to initialize the object’s attributes with values.\n",
    "In Python, the constructor is the __init__ method."
   ]
  },
  {
   "cell_type": "markdown",
   "id": "99320944-7402-4d02-b287-df0177ad1381",
   "metadata": {},
   "source": [
    "10.What are class and static methods in Python?\n",
    "Ans. In Python, class methods and static methods are two types of methods you can define inside a class — but they behave a bit differently from regular instance methods.\n",
    "Instance Method (default): Takes self as the first argument. Can access and modify instance attributes.\n",
    "\n",
    "Class Method: Takes cls as the first argument (refers to the class, not an instance). Can access/modify class-level attributes. Defined using the @classmethod decorator.\n"
   ]
  },
  {
   "cell_type": "markdown",
   "id": "5adaf9b8-a861-49d5-8bdb-a909b7f6d0f7",
   "metadata": {},
   "source": [
    "11.What is method overloading in Python?\n",
    "Ans. Method overloading in Python refers to the ability to define multiple methods in a class with the same name but different parameters (either in type or number). However, Python does not support traditional method overloading like some other languages (e.g., Java or C++).\n",
    "In Python, if you define multiple methods with the same name, the last one will override the previous ones. But you can simulate method overloading using:\n",
    "Variable-Length Arguments (*args, **kwargs)\n",
    "Using @singledispatch Decorator from functools"
   ]
  },
  {
   "cell_type": "markdown",
   "id": "6ff57e2f-ffcb-4ee1-898a-78831e3b224e",
   "metadata": {},
   "source": [
    "12.What is method overriding in OOP?\n",
    "Method overriding in Object-Oriented Programming (OOP) is a feature that allows a subclass (child class) to provide a specific implementation of a method that is already defined in its superclass (parent class). In simple terms, the child class \"overrides\" the behavior of a method inherited from the parent class.\n",
    "The method in the child class must have the same name, parameters, and return type (if applicable) as the one in the parent class. It is used to achieve runtime polymorphism. Allows subclasses to define behavior specific to the subclass type."
   ]
  },
  {
   "cell_type": "markdown",
   "id": "5aa9a4b6-f6cb-4758-952c-cda42229fece",
   "metadata": {},
   "source": [
    "13. What is a property decorator in Python?\n",
    "Ans. The @property decorator in Python is used to define a method that can be accessed like an attribute, providing a way to implement getter, setter, and deleter functionality without changing how the attribute is accessed.\n",
    "It allows: \n",
    "Controlled access to class attributes (encapsulation).\n",
    "Computed properties (like methods, but accessed like variables).\n",
    "Backward compatibility if you later want to add logic to an attribute."
   ]
  },
  {
   "cell_type": "markdown",
   "id": "084d79c6-23f3-493f-aecb-7e6609c7b0c3",
   "metadata": {},
   "source": [
    "14.Why is polymorphism important in OOP?\n",
    "Ans. Polymorphism is a core concept in Object-Oriented Programming (OOP) that allows objects of different classes to be treated as objects of a common superclass, especially when they share a common interface.\n",
    "Polymorphism is important because of:\n",
    "1. Code Reusability & Maintainability\n",
    "We can write general-purpose code that works with different types of objects. \n",
    "Changes in one class don’t require changes in the rest of the code that uses it.\n",
    "2. Extensibility\n",
    "You can add new subclasses with new behaviors without modifying existing code. \n",
    "3. Clean, Elegant Code\n",
    "Encourages abstraction and interface-driven development. \n",
    "Reduces duplication and promotes DRY (Don’t Repeat Yourself) principles. \n",
    "4. Supports Runtime Flexibility\n",
    "Polymorphism enables runtime method binding, where the method that gets called depends on the object type at runtime, not compile time."
   ]
  },
  {
   "cell_type": "markdown",
   "id": "6b9dae26-128f-4223-88c6-98b9521507f0",
   "metadata": {},
   "source": [
    "15. What is an abstract class in Python?\n",
    "Ans. An abstract class in Python is a class that cannot be instantiated directly. It’s meant to serve as a blueprint for other classes, enforcing that certain methods must be implemented in any subclass.\n",
    "Abstract Classes\n",
    "To define a common interface or structure that other classes must follow.\n",
    "To promote code consistency and reusability.\n",
    "To implement polymorphism more effectively."
   ]
  },
  {
   "cell_type": "markdown",
   "id": "7c84e35e-b6f4-41b5-8e43-eb0426078fda",
   "metadata": {},
   "source": [
    "16. What are the advantages of OOP?\n",
    "1. Modularity (Code Organization)\n",
    "Code is organized into classes and objects, making it easier to manage and divide into logical parts. \n",
    "Each class is self-contained and responsible for a specific task.\n",
    "2. Reusability\n",
    "Classes can be reused across different parts of a program or even in different projects.\n",
    "Inheritance allows new classes to be built on existing ones, reducing redundancy.\n",
    "3. Scalability and Maintainability\n",
    "OOP makes it easier to update, extend, and maintain code over time.\n",
    "Since logic is separated into classes, changes can often be made in one class without affecting others.\n",
    "4. Abstraction\n",
    "Allows hiding of complex implementation details and exposing only the necessary features via interfaces or methods.\n",
    "Users of a class don’t need to understand its internals to use it effectively.\n",
    "5. Encapsulation\n",
    "Bundles data and methods that operate on that data within a single unit (a class).\n",
    "Helps protect internal object state and prevent unintended interference."
   ]
  },
  {
   "cell_type": "markdown",
   "id": "b833c32c-e299-43a4-b7ba-ada07db3ff18",
   "metadata": {},
   "source": []
  },
  {
   "cell_type": "markdown",
   "id": "5e0a960e-03b7-41c7-8ebf-efe9975ed7c3",
   "metadata": {},
   "source": [
    "17. What is the difference between a class variable and an instance variable?\n",
    "Ans.\n",
    "Feature\t           Class Variable\t                            Instance Variable\n",
    "Belongs to\t       The class\t                                The object (instance)\n",
    "Shared by\t       All instances of the class\t                Only one specific instance\n",
    "Defined\t           Inside the class, outside any method\t        Inside the class, typically in __init__\n",
    "Use case\t       Shared state across all objects\t            Object-specific data"
   ]
  },
  {
   "cell_type": "markdown",
   "id": "2652be74-39b3-4e8b-b234-f5c41eb751a2",
   "metadata": {},
   "source": [
    "18. What is multiple inheritance in Python?\n",
    "Ans. Multiple inheritance is a feature in Python where a class can inherit from more than one parent class. \n",
    "This allows a child class to access the attributes and methods of all parent classes."
   ]
  },
  {
   "cell_type": "markdown",
   "id": "a6fcdc42-5c04-4c71-9f74-754ea55d6d20",
   "metadata": {},
   "source": [
    "19. Explain the purpose of ‘’__str__’ and ‘__repr__’ ‘ methods in Python.\n",
    "Ans.\n",
    "__str__\tReturn a user-friendly string as print(), str()\tused by End users\n",
    "__repr__\tReturn a developer-focused string as repr(), interpreter used by Developers/debugging"
   ]
  },
  {
   "cell_type": "markdown",
   "id": "3c52c9d2-e39e-41e3-9a4c-a7513462f166",
   "metadata": {},
   "source": [
    "20. What is the significance of the ‘super()’ function in Python?\n",
    "Ans. The super() function in Python is super useful (pun intended) — it’s used to call methods from a parent (or superclass) in a child class. It’s especially important when you're dealing with inheritance, including multiple inheritance.\n",
    "It Allows us to call a method from a parent class without explicitly naming it.\n",
    "Ensures proper method resolution (especially useful in complex inheritance hierarchies). \n",
    "Makes our code more maintainable and flexible."
   ]
  },
  {
   "cell_type": "markdown",
   "id": "8d2fd2ac-d881-4cf7-bb49-fd163b5114cb",
   "metadata": {},
   "source": [
    "21. What is the significance of the __del__ method in Python?\n",
    "Ans. The __del__ method in Python is a special method known as a destructor. It's called automatically when an object is about to be destroyed — typically when there are no more references to it.\n",
    "It allows us to define clean-up behavior — like closing files, releasing resources, or saving final logs — when an object is about to be garbage collected."
   ]
  },
  {
   "cell_type": "markdown",
   "id": "3bdf3008-04ae-44d1-a1cc-9f672cfd8885",
   "metadata": {},
   "source": [
    "22. What is the difference between @staticmethod and @classmethod in Python?\n",
    "Ans.  @staticmethod and @classmethod are both decorators used in classes, but they serve different purposes and behave differently.\n",
    "Feature\t                   @staticmethod\t                            @classmethod\n",
    "Receives\t               No automatic first argument\t                First argument is the class (cls)\n",
    "Bound to\t               The class, but doesn't know class state\t    The class, and has access to class state\n",
    "Can access self?\t       No\t                                        No\n",
    "Can access cls?\t           No\t                                        Yes\n",
    "Typical Use Case\t       Utility/helper methods\t                    Factory methods or altering class-level data"
   ]
  },
  {
   "cell_type": "markdown",
   "id": "c1990f20-4aed-4c96-a84c-d53c194f990a",
   "metadata": {},
   "source": [
    "23. How does polymorphism work in Python with inheritance?\n",
    "Ans. Polymorphism means “many forms.” It allows the same interface (method or function name) to behave differently depending on the object calling it.\n",
    "We define a base class with a method, and then override that method in one or more subclasses."
   ]
  },
  {
   "cell_type": "markdown",
   "id": "b9e98da1-73c5-4ebb-8b84-5dab23301046",
   "metadata": {},
   "source": [
    "24. What is method chaining in Python OOP?\n",
    "Ans. Method chaining means doing this:\n",
    "obj.method1().method2().method3()\n",
    "Each method must return self (or another object that has the next method) so the chain can continue."
   ]
  },
  {
   "cell_type": "markdown",
   "id": "de8020ce-fb12-46e1-8ef0-c3eeb1f86e8a",
   "metadata": {},
   "source": [
    "25. What is the purpose of the __call__ method in Python?\n",
    "Ans. The __call__ method in Python is a special method that allows an instance of a class to be called like a function. It lets us make objects callable, meaning we can use them as if they were functions — using object() syntax."
   ]
  },
  {
   "cell_type": "markdown",
   "id": "b9e73c23-27a5-42bf-91eb-ca301cde1b52",
   "metadata": {},
   "source": [
    "PRACTICAL QUESTIONS"
   ]
  },
  {
   "cell_type": "markdown",
   "id": "7d8c185f-5a8f-4775-9b58-1f60e4e80f25",
   "metadata": {},
   "source": [
    "1. Create a parent class Animal with a method speak() that prints a generic message. Create a child class Dog that overrides the speak() method to print \"Bark!\"."
   ]
  },
  {
   "cell_type": "code",
   "execution_count": 1,
   "id": "9e169e17-5eb6-408c-906c-6bf592e7bf3c",
   "metadata": {},
   "outputs": [
    {
     "name": "stdout",
     "output_type": "stream",
     "text": [
      "The animal makes a sound.\n",
      "Bark!\n"
     ]
    }
   ],
   "source": [
    "# Parent class\n",
    "class Animal:\n",
    "    def speak(self):\n",
    "        print(\"The animal makes a sound.\")\n",
    "\n",
    "# Child class\n",
    "class Dog(Animal):\n",
    "    def speak(self):\n",
    "        print(\"Bark!\")\n",
    "\n",
    "# Create instances\n",
    "generic_animal = Animal()\n",
    "dog = Dog()\n",
    "\n",
    "# Call speak() method\n",
    "generic_animal.speak()  # Output: The animal makes a sound.\n",
    "dog.speak()             # Output: Bark!\n"
   ]
  },
  {
   "cell_type": "markdown",
   "id": "9aef9ae0-4c7d-472b-bc79-73bcc897d0b5",
   "metadata": {},
   "source": [
    "2. Write a program to create an abstract class Shape with a method area(). Derive classes Circle and Rectangle from it and implement the area() method in both."
   ]
  },
  {
   "cell_type": "code",
   "execution_count": 2,
   "id": "3bd442fd-bfa2-4f43-8a6e-d6b069095171",
   "metadata": {},
   "outputs": [
    {
     "name": "stdout",
     "output_type": "stream",
     "text": [
      "Circle area: 78.54\n",
      "Rectangle area: 24\n"
     ]
    }
   ],
   "source": [
    "from abc import ABC, abstractmethod\n",
    "import math\n",
    "\n",
    "# Abstract base class\n",
    "class Shape(ABC):\n",
    "    @abstractmethod\n",
    "    def area(self):\n",
    "        pass\n",
    "\n",
    "# Circle class\n",
    "class Circle(Shape):\n",
    "    def __init__(self, radius):\n",
    "        self.radius = radius\n",
    "\n",
    "    def area(self):\n",
    "        return math.pi * self.radius ** 2\n",
    "\n",
    "# Rectangle class\n",
    "class Rectangle(Shape):\n",
    "    def __init__(self, width, height):\n",
    "        self.width = width\n",
    "        self.height = height\n",
    "\n",
    "    def area(self):\n",
    "        return self.width * self.height\n",
    "\n",
    "# Example usage\n",
    "circle = Circle(5)\n",
    "rectangle = Rectangle(4, 6)\n",
    "\n",
    "print(f\"Circle area: {circle.area():.2f}\")      # Output: Circle area: 78.54\n",
    "print(f\"Rectangle area: {rectangle.area()}\")    # Output: Rectangle area: 24\n"
   ]
  },
  {
   "cell_type": "markdown",
   "id": "e16e96e6-1802-4b35-8125-f7d14bfbe363",
   "metadata": {},
   "source": [
    "3. Implement a multi-level inheritance scenario where a class Vehicle has an attribute type. Derive a class Car and further derive a class ElectricCar that adds a battery attribute."
   ]
  },
  {
   "cell_type": "code",
   "execution_count": 3,
   "id": "8c02bdbe-edef-46f2-8842-9a206f76d01d",
   "metadata": {},
   "outputs": [
    {
     "name": "stdout",
     "output_type": "stream",
     "text": [
      "Vehicle Type: Car\n",
      "Brand: Tesla\n",
      "Battery Capacity: 85 kWh\n"
     ]
    }
   ],
   "source": [
    "# Base class\n",
    "class Vehicle:\n",
    "    def __init__(self, vehicle_type):\n",
    "        self.type = vehicle_type\n",
    "\n",
    "    def show_type(self):\n",
    "        print(f\"Vehicle Type: {self.type}\")\n",
    "\n",
    "# Derived class\n",
    "class Car(Vehicle):\n",
    "    def __init__(self, vehicle_type, brand):\n",
    "        super().__init__(vehicle_type)\n",
    "        self.brand = brand\n",
    "\n",
    "    def show_details(self):\n",
    "        self.show_type()\n",
    "        print(f\"Brand: {self.brand}\")\n",
    "\n",
    "# Further derived class\n",
    "class ElectricCar(Car):\n",
    "    def __init__(self, vehicle_type, brand, battery_capacity):\n",
    "        super().__init__(vehicle_type, brand)\n",
    "        self.battery = battery_capacity\n",
    "\n",
    "    def show_full_details(self):\n",
    "        self.show_details()\n",
    "        print(f\"Battery Capacity: {self.battery} kWh\")\n",
    "\n",
    "# Create an object of ElectricCar\n",
    "tesla = ElectricCar(\"Car\", \"Tesla\", 85)\n",
    "tesla.show_full_details()\n"
   ]
  },
  {
   "cell_type": "markdown",
   "id": "c441bf2c-5238-44a7-971e-a0c497bd3db8",
   "metadata": {},
   "source": [
    "4. Demonstrate polymorphism by creating a base class Bird with a method fly(). Create two derived classes Sparrow and Penguin that override the fly() method."
   ]
  },
  {
   "cell_type": "code",
   "execution_count": 4,
   "id": "3586b49e-4b10-448e-96ce-b7c6771b6274",
   "metadata": {},
   "outputs": [
    {
     "name": "stdout",
     "output_type": "stream",
     "text": [
      "Sparrow flies high in the sky.\n",
      "Penguins can't fly, they waddle.\n"
     ]
    }
   ],
   "source": [
    "# Base class\n",
    "class Bird:\n",
    "    def fly(self):\n",
    "        print(\"Bird is flying.\")\n",
    "\n",
    "# Derived class 1\n",
    "class Sparrow(Bird):\n",
    "    def fly(self):\n",
    "        print(\"Sparrow flies high in the sky.\")\n",
    "\n",
    "# Derived class 2\n",
    "class Penguin(Bird):\n",
    "    def fly(self):\n",
    "        print(\"Penguins can't fly, they waddle.\")\n",
    "\n",
    "# Polymorphic behavior\n",
    "def bird_flight(bird):\n",
    "    bird.fly()\n",
    "\n",
    "# Create instances\n",
    "sparrow = Sparrow()\n",
    "penguin = Penguin()\n",
    "\n",
    "# Call fly() using polymorphism\n",
    "bird_flight(sparrow)   # Output: Sparrow flies high in the sky.\n",
    "bird_flight(penguin)   # Output: Penguins can't fly, they waddle.\n"
   ]
  },
  {
   "cell_type": "markdown",
   "id": "c0b7c77d-450a-48a7-8706-5c45e684afec",
   "metadata": {},
   "source": [
    "5. Write a program to demonstrate encapsulation by creating a class BankAccount with private attributes balance and methods to deposit, withdraw, and check balance.\n"
   ]
  },
  {
   "cell_type": "code",
   "execution_count": 8,
   "id": "68017f99-7a0b-4c65-87b2-8543b377fd01",
   "metadata": {},
   "outputs": [
    {
     "name": "stdout",
     "output_type": "stream",
     "text": [
      "Deposited $500\n",
      "Withdrew $200\n",
      "Alice's Current Balance: $1300\n"
     ]
    },
    {
     "ename": "AttributeError",
     "evalue": "'BankAccount' object has no attribute '__balance'",
     "output_type": "error",
     "traceback": [
      "\u001b[1;31m---------------------------------------------------------------------------\u001b[0m",
      "\u001b[1;31mAttributeError\u001b[0m                            Traceback (most recent call last)",
      "Cell \u001b[1;32mIn[8], line 30\u001b[0m\n\u001b[0;32m     27\u001b[0m account\u001b[38;5;241m.\u001b[39mcheck_balance()\n\u001b[0;32m     29\u001b[0m \u001b[38;5;66;03m# Attempt to access the private attribute directly (will fail)\u001b[39;00m\n\u001b[1;32m---> 30\u001b[0m \u001b[38;5;28mprint\u001b[39m(account\u001b[38;5;241m.\u001b[39m__balance)\n",
      "\u001b[1;31mAttributeError\u001b[0m: 'BankAccount' object has no attribute '__balance'"
     ]
    }
   ],
   "source": [
    "class BankAccount:\n",
    "    def __init__(self, owner, initial_balance=0):\n",
    "        self.owner = owner\n",
    "        self.__balance = initial_balance  # private attribute\n",
    "\n",
    "    def deposit(self, amount):\n",
    "        if amount > 0:\n",
    "            self.__balance += amount\n",
    "            print(f\"Deposited ${amount}\")\n",
    "        else:\n",
    "            print(\"Deposit amount must be positive.\")\n",
    "\n",
    "    def withdraw(self, amount):\n",
    "        if 0 < amount <= self.__balance:\n",
    "            self.__balance -= amount\n",
    "            print(f\"Withdrew ${amount}\")\n",
    "        else:\n",
    "            print(\"Insufficient balance or invalid amount.\")\n",
    "\n",
    "    def check_balance(self):\n",
    "        print(f\"{self.owner}'s Current Balance: ${self.__balance}\")\n",
    "\n",
    "# Example usage\n",
    "account = BankAccount(\"Alice\", 1000)\n",
    "account.deposit(500)\n",
    "account.withdraw(200)\n",
    "account.check_balance()\n",
    "\n",
    "# Attempt to access the private attribute directly (will fail)\n",
    "print(account.__balance)  # AttributeError"
   ]
  },
  {
   "cell_type": "markdown",
   "id": "b3785fab-17e3-4152-8e90-01e3c61efc51",
   "metadata": {},
   "source": [
    "6. Demonstrate runtime polymorphism using a method play() in a base class Instrument. Derive classes Guitar and Piano that implement their own version of play().\n"
   ]
  },
  {
   "cell_type": "code",
   "execution_count": 9,
   "id": "aa4dca76-42e4-4178-9c55-9d8b9b53387a",
   "metadata": {},
   "outputs": [
    {
     "name": "stdout",
     "output_type": "stream",
     "text": [
      "Strumming the guitar 🎸\n",
      "Playing the piano 🎹\n"
     ]
    }
   ],
   "source": [
    "# Base class\n",
    "class Instrument:\n",
    "    def play(self):\n",
    "        print(\"Playing an instrument...\")\n",
    "\n",
    "# Derived class 1\n",
    "class Guitar(Instrument):\n",
    "    def play(self):\n",
    "        print(\"Strumming the guitar 🎸\")\n",
    "\n",
    "# Derived class 2\n",
    "class Piano(Instrument):\n",
    "    def play(self):\n",
    "        print(\"Playing the piano 🎹\")\n",
    "\n",
    "# Function that uses polymorphism\n",
    "def perform(instrument: Instrument):\n",
    "    instrument.play()\n",
    "\n",
    "# Create objects\n",
    "g = Guitar()\n",
    "p = Piano()\n",
    "\n",
    "# Call play() polymorphically\n",
    "perform(g)  # Output: Strumming the guitar 🎸\n",
    "perform(p)  # Output: Playing the piano 🎹\n"
   ]
  },
  {
   "cell_type": "markdown",
   "id": "1be2619e-3866-47df-9967-1588375a4faf",
   "metadata": {},
   "source": [
    "7. Create a class MathOperations with a class method add_numbers() to add two numbers and a static method subtract_numbers() to subtract two numbers.\n"
   ]
  },
  {
   "cell_type": "code",
   "execution_count": 10,
   "id": "c5d132c8-f09f-4ee3-8fda-ba951372f44d",
   "metadata": {},
   "outputs": [
    {
     "name": "stdout",
     "output_type": "stream",
     "text": [
      "Sum: 15\n",
      "Difference: 5\n"
     ]
    }
   ],
   "source": [
    "class MathOperations:\n",
    "    # Class method\n",
    "    @classmethod\n",
    "    def add_numbers(cls, a, b):\n",
    "        return a + b\n",
    "\n",
    "    # Static method\n",
    "    @staticmethod\n",
    "    def subtract_numbers(a, b):\n",
    "        return a - b\n",
    "\n",
    "# Example usage\n",
    "sum_result = MathOperations.add_numbers(10, 5)\n",
    "diff_result = MathOperations.subtract_numbers(10, 5)\n",
    "\n",
    "print(f\"Sum: {sum_result}\")         # Output: Sum: 15\n",
    "print(f\"Difference: {diff_result}\") # Output: Difference: 5\n"
   ]
  },
  {
   "cell_type": "markdown",
   "id": "5ce8e561-3a7d-404a-90f0-fdf703b2ef65",
   "metadata": {},
   "source": [
    "8. Implement a class Person with a class method to count the total number of persons created."
   ]
  },
  {
   "cell_type": "code",
   "execution_count": 11,
   "id": "d4743847-4a47-46f6-b39f-8d1b7b1543cc",
   "metadata": {},
   "outputs": [
    {
     "name": "stdout",
     "output_type": "stream",
     "text": [
      "Total persons created: 3\n"
     ]
    }
   ],
   "source": [
    "class Person:\n",
    "    count = 0  # Class variable to keep track of instances\n",
    "\n",
    "    def __init__(self, name):\n",
    "        self.name = name\n",
    "        Person.count += 1\n",
    "\n",
    "    @classmethod\n",
    "    def total_persons(cls):\n",
    "        return cls.count\n",
    "\n",
    "# Create some Person instances\n",
    "p1 = Person(\"Alice\")\n",
    "p2 = Person(\"Bob\")\n",
    "p3 = Person(\"Charlie\")\n",
    "\n",
    "# Call the class method to get the total number of persons\n",
    "print(f\"Total persons created: {Person.total_persons()}\")\n"
   ]
  },
  {
   "cell_type": "markdown",
   "id": "aa421cb1-c8a4-47f3-9454-51b3b14b50b7",
   "metadata": {},
   "source": [
    "9. Write a class Fraction with attributes numerator and denominator. Override the str "
   ]
  },
  {
   "cell_type": "code",
   "execution_count": 12,
   "id": "c49c4b06-6c17-47bf-8828-d044d1ed70b6",
   "metadata": {},
   "outputs": [
    {
     "name": "stdout",
     "output_type": "stream",
     "text": [
      "Fraction 1: 3/4\n",
      "Fraction 2: 5/1\n"
     ]
    }
   ],
   "source": [
    "class Fraction:\n",
    "    def __init__(self, numerator, denominator):\n",
    "        if denominator == 0:\n",
    "            raise ValueError(\"Denominator cannot be zero.\")\n",
    "        self.numerator = numerator\n",
    "        self.denominator = denominator\n",
    "\n",
    "    def __str__(self):\n",
    "        return f\"{self.numerator}/{self.denominator}\"\n",
    "\n",
    "# Example usage\n",
    "f1 = Fraction(3, 4)\n",
    "f2 = Fraction(5, 1)\n",
    "\n",
    "print(f\"Fraction 1: {f1}\")  # Output: Fraction 1: 3/4\n",
    "print(f\"Fraction 2: {f2}\")  # Output: Fraction 2: 5/1\n"
   ]
  },
  {
   "cell_type": "markdown",
   "id": "ad4e50fb-ed3a-424d-96df-3a1ee6373b16",
   "metadata": {},
   "source": [
    "10. Demonstrate operator overloading by creating a class Vector and overriding the add method to add two vectors."
   ]
  },
  {
   "cell_type": "code",
   "execution_count": 13,
   "id": "bcab7ff0-22dc-48ba-89fa-8a3797a95060",
   "metadata": {},
   "outputs": [
    {
     "name": "stdout",
     "output_type": "stream",
     "text": [
      "v1: Vector(2, 3)\n",
      "v2: Vector(4, 5)\n",
      "v1 + v2 = Vector(6, 8)\n"
     ]
    }
   ],
   "source": [
    "class Vector:\n",
    "    def __init__(self, x, y):\n",
    "        self.x = x\n",
    "        self.y = y\n",
    "\n",
    "    # Overloading the + operator\n",
    "    def __add__(self, other):\n",
    "        return Vector(self.x + other.x, self.y + other.y)\n",
    "\n",
    "    # String representation for easy printing\n",
    "    def __str__(self):\n",
    "        return f\"Vector({self.x}, {self.y})\"\n",
    "\n",
    "# Example usage\n",
    "v1 = Vector(2, 3)\n",
    "v2 = Vector(4, 5)\n",
    "\n",
    "v3 = v1 + v2  # Calls v1.__add__(v2)\n",
    "\n",
    "print(f\"v1: {v1}\")       # Output: v1: Vector(2, 3)\n",
    "print(f\"v2: {v2}\")       # Output: v2: Vector(4, 5)\n",
    "print(f\"v1 + v2 = {v3}\") # Output: v1 + v2 = Vector(6, 8)\n"
   ]
  },
  {
   "cell_type": "markdown",
   "id": "a898cc42-e1fb-4523-ae2c-792713ad6fe3",
   "metadata": {},
   "source": [
    "11. Create a class Person with attributes name and age. Add a method greet() that prints \"Hello, my name is {name} and I am {age} years old.\""
   ]
  },
  {
   "cell_type": "code",
   "execution_count": 14,
   "id": "0cd6647a-4e04-4ddf-90c5-e6ff0ddc7e5a",
   "metadata": {},
   "outputs": [
    {
     "name": "stdout",
     "output_type": "stream",
     "text": [
      "Hello, my name is Alice and I am 25 years old.\n",
      "Hello, my name is Bob and I am 30 years old.\n"
     ]
    }
   ],
   "source": [
    "class Person:\n",
    "    def __init__(self, name, age):\n",
    "        self.name = name\n",
    "        self.age = age\n",
    "\n",
    "    def greet(self):\n",
    "        print(f\"Hello, my name is {self.name} and I am {self.age} years old.\")\n",
    "\n",
    "# Example usage\n",
    "p1 = Person(\"Alice\", 25)\n",
    "p2 = Person(\"Bob\", 30)\n",
    "\n",
    "p1.greet()  # Output: Hello, my name is Alice and I am 25 years old.\n",
    "p2.greet()  # Output: Hello, my name is Bob and I am 30 years old.\n"
   ]
  },
  {
   "cell_type": "markdown",
   "id": "ca99e0a9-c603-4fdc-8d51-643f622e5e4e",
   "metadata": {},
   "source": [
    "12. Implement a class Student with attributes name and grades. Create a method average_grade() to compute the average of the grades.\n"
   ]
  },
  {
   "cell_type": "code",
   "execution_count": 15,
   "id": "797b0995-ad7c-4d30-853d-b24aeb6af272",
   "metadata": {},
   "outputs": [
    {
     "name": "stdout",
     "output_type": "stream",
     "text": [
      "Alice's average grade: 84.33\n",
      "Bob's average grade: 93.75\n"
     ]
    }
   ],
   "source": [
    "class Student:\n",
    "    def __init__(self, name, grades):\n",
    "        self.name = name\n",
    "        self.grades = grades  # A list of numerical grades\n",
    "\n",
    "    def average_grade(self):\n",
    "        if not self.grades:\n",
    "            return 0\n",
    "        return sum(self.grades) / len(self.grades)\n",
    "\n",
    "# Example usage\n",
    "student1 = Student(\"Alice\", [85, 90, 78])\n",
    "student2 = Student(\"Bob\", [92, 88, 95, 100])\n",
    "\n",
    "print(f\"{student1.name}'s average grade: {student1.average_grade():.2f}\")\n",
    "print(f\"{student2.name}'s average grade: {student2.average_grade():.2f}\")\n"
   ]
  },
  {
   "cell_type": "markdown",
   "id": "54150c07-53db-4b54-9fa9-6ab72429b9f7",
   "metadata": {},
   "source": [
    "13. Create a class Rectangle with methods set_dimensions() to set the dimensions and area() to calculate the area.\n"
   ]
  },
  {
   "cell_type": "code",
   "execution_count": 16,
   "id": "0b47f1af-f6e3-4ad2-9a33-b03fcc59718f",
   "metadata": {},
   "outputs": [
    {
     "name": "stdout",
     "output_type": "stream",
     "text": [
      "Area of rectangle: 50\n"
     ]
    }
   ],
   "source": [
    "class Rectangle:\n",
    "    def __init__(self):\n",
    "        self.length = 0\n",
    "        self.width = 0\n",
    "\n",
    "    def set_dimensions(self, length, width):\n",
    "        self.length = length\n",
    "        self.width = width\n",
    "\n",
    "    def area(self):\n",
    "        return self.length * self.width\n",
    "\n",
    "# Example usage\n",
    "rect = Rectangle()\n",
    "rect.set_dimensions(5, 10)\n",
    "\n",
    "print(f\"Area of rectangle: {rect.area()}\")  # Output: Area of rectangle: 50\n"
   ]
  },
  {
   "cell_type": "markdown",
   "id": "3b2be977-8ff9-4fe0-95b7-3a7fb2295072",
   "metadata": {},
   "source": [
    "14. Create a class Employee with a method calculate_salary() that computes the salary based on hours worked and hourly rate. Create a derived class Manager that adds a bonus to the salary"
   ]
  },
  {
   "cell_type": "code",
   "execution_count": 17,
   "id": "4dbc03e4-2da9-4d85-8cb2-0a96741bc7c6",
   "metadata": {},
   "outputs": [
    {
     "name": "stdout",
     "output_type": "stream",
     "text": [
      "Alice's salary: $800\n",
      "Bob's salary: $1700\n"
     ]
    }
   ],
   "source": [
    "# Base class\n",
    "class Employee:\n",
    "    def __init__(self, name, hours_worked, hourly_rate):\n",
    "        self.name = name\n",
    "        self.hours_worked = hours_worked\n",
    "        self.hourly_rate = hourly_rate\n",
    "\n",
    "    def calculate_salary(self):\n",
    "        return self.hours_worked * self.hourly_rate\n",
    "\n",
    "# Derived class\n",
    "class Manager(Employee):\n",
    "    def __init__(self, name, hours_worked, hourly_rate, bonus):\n",
    "        super().__init__(name, hours_worked, hourly_rate)\n",
    "        self.bonus = bonus\n",
    "\n",
    "    def calculate_salary(self):\n",
    "        base_salary = super().calculate_salary()\n",
    "        return base_salary + self.bonus\n",
    "\n",
    "# Example usage\n",
    "emp = Employee(\"Alice\", 40, 20)\n",
    "mgr = Manager(\"Bob\", 40, 30, 500)\n",
    "\n",
    "print(f\"{emp.name}'s salary: ${emp.calculate_salary()}\")   # Output: Alice's salary: $800\n",
    "print(f\"{mgr.name}'s salary: ${mgr.calculate_salary()}\")   # Output: Bob's salary: $1700\n"
   ]
  },
  {
   "cell_type": "markdown",
   "id": "3b469894-d3d9-4ea4-bad2-e8ecd57c1e00",
   "metadata": {},
   "source": [
    "15. Create a class Product with attributes name, price, and quantity. Implement a method total_price() that calculates the total price of the product."
   ]
  },
  {
   "cell_type": "code",
   "execution_count": 18,
   "id": "42bd8978-461e-4cc8-8f94-eb096ec871ac",
   "metadata": {},
   "outputs": [
    {
     "name": "stdout",
     "output_type": "stream",
     "text": [
      "Laptop total price: $1600\n",
      "Mouse total price: $100\n"
     ]
    }
   ],
   "source": [
    "class Product:\n",
    "    def __init__(self, name, price, quantity):\n",
    "        self.name = name\n",
    "        self.price = price\n",
    "        self.quantity = quantity\n",
    "\n",
    "    def total_price(self):\n",
    "        return self.price * self.quantity\n",
    "\n",
    "# Example usage\n",
    "product1 = Product(\"Laptop\", 800, 2)\n",
    "product2 = Product(\"Mouse\", 25, 4)\n",
    "\n",
    "print(f\"{product1.name} total price: ${product1.total_price()}\")  # Output: Laptop total price: $1600\n",
    "print(f\"{product2.name} total price: ${product2.total_price()}\")  # Output: Mouse total price: $100\n"
   ]
  },
  {
   "cell_type": "markdown",
   "id": "77c6c0d0-47c5-4e53-a74e-1cbd08de094a",
   "metadata": {},
   "source": [
    "16. Create a class Animal with an abstract method sound(). Create two derived classes Cow and Sheep that implement the sound() method."
   ]
  },
  {
   "cell_type": "code",
   "execution_count": 19,
   "id": "ec24c745-1d34-4146-a1d0-aac3487df0b7",
   "metadata": {},
   "outputs": [
    {
     "name": "stdout",
     "output_type": "stream",
     "text": [
      "Cow says: Moo\n",
      "Sheep says: Baa\n"
     ]
    }
   ],
   "source": [
    "from abc import ABC, abstractmethod\n",
    "\n",
    "# Abstract base class\n",
    "class Animal(ABC):\n",
    "    @abstractmethod\n",
    "    def sound(self):\n",
    "        pass\n",
    "\n",
    "# Derived class: Cow\n",
    "class Cow(Animal):\n",
    "    def sound(self):\n",
    "        return \"Moo\"\n",
    "\n",
    "# Derived class: Sheep\n",
    "class Sheep(Animal):\n",
    "    def sound(self):\n",
    "        return \"Baa\"\n",
    "\n",
    "# Example usage\n",
    "cow = Cow()\n",
    "sheep = Sheep()\n",
    "\n",
    "print(f\"Cow says: {cow.sound()}\")     # Output: Cow says: Moo\n",
    "print(f\"Sheep says: {sheep.sound()}\") # Output: Sheep says: Baa\n"
   ]
  },
  {
   "cell_type": "markdown",
   "id": "78340fb2-8fe4-49c5-8c67-5271f9f94b4b",
   "metadata": {},
   "source": [
    "17. Create a class Book with attributes title, author, and year_published. Add a method get_book_info() that returns a formatted string with the book's details."
   ]
  },
  {
   "cell_type": "code",
   "execution_count": 21,
   "id": "6a6a9e55-4b23-4f44-a736-342bac280649",
   "metadata": {},
   "outputs": [
    {
     "name": "stdout",
     "output_type": "stream",
     "text": [
      "'To Kill a Mockingbird' by Harper Lee, published in 1960.\n",
      "'1984' by George Orwell, published in 1949.\n"
     ]
    }
   ],
   "source": [
    "class Book:\n",
    "    def __init__(self, title, author, year_published):\n",
    "        self.title = title\n",
    "        self.author = author\n",
    "        self.year_published = year_published\n",
    "\n",
    "    def get_book_info(self):\n",
    "        return f\"'{self.title}' by {self.author}, published in {self.year_published}.\"\n",
    "\n",
    "# Example usage\n",
    "book1 = Book(\"To Kill a Mockingbird\", \"Harper Lee\", 1960)\n",
    "book2 = Book(\"1984\", \"George Orwell\", 1949)\n",
    "\n",
    "print(book1.get_book_info())  # Output: 'To Kill a Mockingbird' by Harper Lee, published in 1960.\n",
    "print(book2.get_book_info())  # Output: '1984' by George Orwell, published in 1949.\n"
   ]
  },
  {
   "cell_type": "markdown",
   "id": "ed5cc005-8750-4948-aa73-a05fbb792950",
   "metadata": {},
   "source": [
    "18. Create a class House with attributes address and price. Create a derived class Mansion that adds an attribute number_of_rooms."
   ]
  },
  {
   "cell_type": "code",
   "execution_count": 22,
   "id": "d4306408-705d-4f29-931a-20ae73cc630d",
   "metadata": {},
   "outputs": [
    {
     "name": "stdout",
     "output_type": "stream",
     "text": [
      "House at 123 Maple Street costs $250000\n",
      "Mansion at 456 Grand Avenue costs $1500000 and has 12 rooms\n"
     ]
    }
   ],
   "source": [
    "# Base class\n",
    "class House:\n",
    "    def __init__(self, address, price):\n",
    "        self.address = address\n",
    "        self.price = price\n",
    "\n",
    "# Derived class\n",
    "class Mansion(House):\n",
    "    def __init__(self, address, price, number_of_rooms):\n",
    "        super().__init__(address, price)\n",
    "        self.number_of_rooms = number_of_rooms\n",
    "\n",
    "# Example usage\n",
    "house = House(\"123 Maple Street\", 250000)\n",
    "mansion = Mansion(\"456 Grand Avenue\", 1500000, 12)\n",
    "\n",
    "print(f\"House at {house.address} costs ${house.price}\")\n",
    "print(f\"Mansion at {mansion.address} costs ${mansion.price} and has {mansion.number_of_rooms} rooms\")\n"
   ]
  }
 ],
 "metadata": {
  "kernelspec": {
   "display_name": "Python 3 (ipykernel)",
   "language": "python",
   "name": "python3"
  },
  "language_info": {
   "codemirror_mode": {
    "name": "ipython",
    "version": 3
   },
   "file_extension": ".py",
   "mimetype": "text/x-python",
   "name": "python",
   "nbconvert_exporter": "python",
   "pygments_lexer": "ipython3",
   "version": "3.12.7"
  }
 },
 "nbformat": 4,
 "nbformat_minor": 5
}
